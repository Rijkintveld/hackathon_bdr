{
 "cells": [
  {
   "cell_type": "code",
   "execution_count": 43,
   "metadata": {},
   "outputs": [
    {
     "data": {
      "text/html": [
       "<div>\n",
       "<style>\n",
       "    .dataframe thead tr:only-child th {\n",
       "        text-align: right;\n",
       "    }\n",
       "\n",
       "    .dataframe thead th {\n",
       "        text-align: left;\n",
       "    }\n",
       "\n",
       "    .dataframe tbody tr th {\n",
       "        vertical-align: top;\n",
       "    }\n",
       "</style>\n",
       "<table border=\"1\" class=\"dataframe\">\n",
       "  <thead>\n",
       "    <tr style=\"text-align: right;\">\n",
       "      <th></th>\n",
       "      <th>2016 mei*</th>\n",
       "      <th>2016 juni*</th>\n",
       "      <th>2016 2e kwartaal*</th>\n",
       "      <th>2017 mei*</th>\n",
       "      <th>2017 juni*</th>\n",
       "      <th>2017 2e kwartaal*</th>\n",
       "    </tr>\n",
       "    <tr>\n",
       "      <th>Onderwerp</th>\n",
       "      <th></th>\n",
       "      <th></th>\n",
       "      <th></th>\n",
       "      <th></th>\n",
       "      <th></th>\n",
       "      <th></th>\n",
       "    </tr>\n",
       "  </thead>\n",
       "  <tbody>\n",
       "    <tr>\n",
       "      <th>Totaal aanbod</th>\n",
       "      <td>9366.0</td>\n",
       "      <td>9707.0</td>\n",
       "      <td>28343.0</td>\n",
       "      <td>9482.0</td>\n",
       "      <td>9366.0</td>\n",
       "      <td>27965.0</td>\n",
       "    </tr>\n",
       "    <tr>\n",
       "      <th>||Totaal productie</th>\n",
       "      <td>8214.0</td>\n",
       "      <td>8292.0</td>\n",
       "      <td>25128.0</td>\n",
       "      <td>8345.0</td>\n",
       "      <td>8486.0</td>\n",
       "      <td>25806.0</td>\n",
       "    </tr>\n",
       "    <tr>\n",
       "      <th>||Centraal</th>\n",
       "      <td>5258.0</td>\n",
       "      <td>5495.0</td>\n",
       "      <td>16353.0</td>\n",
       "      <td>5389.0</td>\n",
       "      <td>5689.0</td>\n",
       "      <td>16873.0</td>\n",
       "    </tr>\n",
       "    <tr>\n",
       "      <th>||Decentraal</th>\n",
       "      <td>2956.0</td>\n",
       "      <td>2797.0</td>\n",
       "      <td>8775.0</td>\n",
       "      <td>2956.0</td>\n",
       "      <td>2797.0</td>\n",
       "      <td>8933.0</td>\n",
       "    </tr>\n",
       "    <tr>\n",
       "      <th>Invoer</th>\n",
       "      <td>2397.0</td>\n",
       "      <td>2413.0</td>\n",
       "      <td>6917.0</td>\n",
       "      <td>2327.0</td>\n",
       "      <td>1984.0</td>\n",
       "      <td>6231.0</td>\n",
       "    </tr>\n",
       "  </tbody>\n",
       "</table>\n",
       "</div>"
      ],
      "text/plain": [
       "                    2016 mei*  2016 juni*  2016 2e kwartaal*  2017 mei*  \\\n",
       "Onderwerp                                                                 \n",
       "Totaal aanbod          9366.0      9707.0            28343.0     9482.0   \n",
       "||Totaal productie     8214.0      8292.0            25128.0     8345.0   \n",
       "||Centraal             5258.0      5495.0            16353.0     5389.0   \n",
       "||Decentraal           2956.0      2797.0             8775.0     2956.0   \n",
       "Invoer                 2397.0      2413.0             6917.0     2327.0   \n",
       "\n",
       "                    2017 juni*  2017 2e kwartaal*  \n",
       "Onderwerp                                          \n",
       "Totaal aanbod           9366.0            27965.0  \n",
       "||Totaal productie      8486.0            25806.0  \n",
       "||Centraal              5689.0            16873.0  \n",
       "||Decentraal            2797.0             8933.0  \n",
       "Invoer                  1984.0             6231.0  "
      ]
     },
     "execution_count": 43,
     "metadata": {},
     "output_type": "execute_result"
    }
   ],
   "source": [
    "import pandas as pd\n",
    "import numpy as np\n",
    "\n",
    "df=pd.read_csv('Elektriciteitsbalans__aanbod_en_verbruik_22112017_141845.csv',header=3,sep=';',index_col=0)\n",
    "df=df.drop(df.columns[0],1)\n",
    "df.head()\n"
   ]
  },
  {
   "cell_type": "code",
   "execution_count": 42,
   "metadata": {},
   "outputs": [
    {
     "data": {
      "text/plain": [
       "numpy.ndarray"
      ]
     },
     "execution_count": 42,
     "metadata": {},
     "output_type": "execute_result"
    }
   ],
   "source": [
    "array=df.values\n",
    "type(array)"
   ]
  },
  {
   "cell_type": "code",
   "execution_count": null,
   "metadata": {
    "collapsed": true
   },
   "outputs": [],
   "source": []
  }
 ],
 "metadata": {
  "kernelspec": {
   "display_name": "Python 3",
   "language": "python",
   "name": "python3"
  },
  "language_info": {
   "codemirror_mode": {
    "name": "ipython",
    "version": 3
   },
   "file_extension": ".py",
   "mimetype": "text/x-python",
   "name": "python",
   "nbconvert_exporter": "python",
   "pygments_lexer": "ipython3",
   "version": "3.6.3"
  }
 },
 "nbformat": 4,
 "nbformat_minor": 2
}
