{
 "cells": [
  {
   "cell_type": "markdown",
   "metadata": {},
   "source": [
    "### Hackathon pipeline template\n",
    "\n",
    "In this document an idea of how to create a pipeline."
   ]
  },
  {
   "cell_type": "code",
   "execution_count": 8,
   "metadata": {
    "collapsed": true
   },
   "outputs": [],
   "source": [
    "# general imports\n",
    "import pandas as pd\n",
    "import itertools\n",
    "\n",
    "# general imports from sklearn\n",
    "from sklearn.base import BaseEstimator, TransformerMixin\n",
    "from sklearn.pipeline import Pipeline\n",
    "\n",
    "# import for models\n",
    "from sklearn.linear_model import LinearRegression\n",
    "from sklearn.svm import SVR\n",
    "\n",
    "# imports for transformation\n",
    "from sklearn.preprocessing import PolynomialFeatures\n",
    "\n",
    "# splitting for crossvalidation procedure\n",
    "from sklearn.model_selection import train_test_split\n",
    "from sklearn.model_selection import KFold\n",
    "from sklearn.model_selection import TimeSeriesSplit\n",
    "\n",
    "# evaluation metrics\n",
    "from sklearn.metrics import mean_squared_error as mse\n",
    "from sklearn.metrics import mean_absolute_error as mae\n",
    "from sklearn.metrics import explained_variance_score as ev\n",
    "from sklearn.metrics import r2_score as r2"
   ]
  },
  {
   "cell_type": "code",
   "execution_count": 9,
   "metadata": {
    "collapsed": true
   },
   "outputs": [],
   "source": [
    "#Transform months to integer data\n",
    "def clean_week_and_day(dataFrame):\n",
    "\n",
    "    month_transform  = {\n",
    "        \"jan\":1,\n",
    "        \"feb\":2,\n",
    "        \"mar\":3,\n",
    "        \"apr\":4,\n",
    "        \"may\":5,\n",
    "        \"jun\":6,\n",
    "        \"jul\":7,\n",
    "        \"aug\":8,\n",
    "        \"sep\":9,\n",
    "        \"oct\":10,\n",
    "        \"nov\":11,\n",
    "        \"dec\":12\n",
    "    }\n",
    "    \n",
    "    day_transform = {\n",
    "        \"mon\":1,\n",
    "        \"tue\":2,\n",
    "        \"wed\":3,\n",
    "        \"thu\":4,\n",
    "        \"fri\":5,\n",
    "        \"sat\":6,\n",
    "        \"sun\":7,\n",
    "    }\n",
    "    \n",
    "    dataFrame[\"month\"] = dataFrame[\"month\"].apply(lambda x: month_transform[x])\n",
    "    dataFrame[\"day\"]   = dataFrame[\"day\"].apply(lambda x: day_transform[x])\n",
    "    \n",
    "    return data"
   ]
  },
  {
   "cell_type": "code",
   "execution_count": 10,
   "metadata": {},
   "outputs": [
    {
     "data": {
      "text/html": [
       "<div>\n",
       "<style>\n",
       "    .dataframe thead tr:only-child th {\n",
       "        text-align: right;\n",
       "    }\n",
       "\n",
       "    .dataframe thead th {\n",
       "        text-align: left;\n",
       "    }\n",
       "\n",
       "    .dataframe tbody tr th {\n",
       "        vertical-align: top;\n",
       "    }\n",
       "</style>\n",
       "<table border=\"1\" class=\"dataframe\">\n",
       "  <thead>\n",
       "    <tr style=\"text-align: right;\">\n",
       "      <th></th>\n",
       "      <th>X</th>\n",
       "      <th>Y</th>\n",
       "      <th>month</th>\n",
       "      <th>day</th>\n",
       "      <th>FFMC</th>\n",
       "      <th>DMC</th>\n",
       "      <th>DC</th>\n",
       "      <th>ISI</th>\n",
       "      <th>temp</th>\n",
       "      <th>RH</th>\n",
       "      <th>wind</th>\n",
       "      <th>rain</th>\n",
       "      <th>area</th>\n",
       "    </tr>\n",
       "  </thead>\n",
       "  <tbody>\n",
       "    <tr>\n",
       "      <th>0</th>\n",
       "      <td>7</td>\n",
       "      <td>5</td>\n",
       "      <td>3</td>\n",
       "      <td>5</td>\n",
       "      <td>86.2</td>\n",
       "      <td>26.2</td>\n",
       "      <td>94.3</td>\n",
       "      <td>5.1</td>\n",
       "      <td>8.2</td>\n",
       "      <td>51</td>\n",
       "      <td>6.7</td>\n",
       "      <td>0.0</td>\n",
       "      <td>0.0</td>\n",
       "    </tr>\n",
       "    <tr>\n",
       "      <th>1</th>\n",
       "      <td>7</td>\n",
       "      <td>4</td>\n",
       "      <td>10</td>\n",
       "      <td>2</td>\n",
       "      <td>90.6</td>\n",
       "      <td>35.4</td>\n",
       "      <td>669.1</td>\n",
       "      <td>6.7</td>\n",
       "      <td>18.0</td>\n",
       "      <td>33</td>\n",
       "      <td>0.9</td>\n",
       "      <td>0.0</td>\n",
       "      <td>0.0</td>\n",
       "    </tr>\n",
       "    <tr>\n",
       "      <th>2</th>\n",
       "      <td>7</td>\n",
       "      <td>4</td>\n",
       "      <td>10</td>\n",
       "      <td>6</td>\n",
       "      <td>90.6</td>\n",
       "      <td>43.7</td>\n",
       "      <td>686.9</td>\n",
       "      <td>6.7</td>\n",
       "      <td>14.6</td>\n",
       "      <td>33</td>\n",
       "      <td>1.3</td>\n",
       "      <td>0.0</td>\n",
       "      <td>0.0</td>\n",
       "    </tr>\n",
       "    <tr>\n",
       "      <th>3</th>\n",
       "      <td>8</td>\n",
       "      <td>6</td>\n",
       "      <td>3</td>\n",
       "      <td>5</td>\n",
       "      <td>91.7</td>\n",
       "      <td>33.3</td>\n",
       "      <td>77.5</td>\n",
       "      <td>9.0</td>\n",
       "      <td>8.3</td>\n",
       "      <td>97</td>\n",
       "      <td>4.0</td>\n",
       "      <td>0.2</td>\n",
       "      <td>0.0</td>\n",
       "    </tr>\n",
       "    <tr>\n",
       "      <th>4</th>\n",
       "      <td>8</td>\n",
       "      <td>6</td>\n",
       "      <td>3</td>\n",
       "      <td>7</td>\n",
       "      <td>89.3</td>\n",
       "      <td>51.3</td>\n",
       "      <td>102.2</td>\n",
       "      <td>9.6</td>\n",
       "      <td>11.4</td>\n",
       "      <td>99</td>\n",
       "      <td>1.8</td>\n",
       "      <td>0.0</td>\n",
       "      <td>0.0</td>\n",
       "    </tr>\n",
       "  </tbody>\n",
       "</table>\n",
       "</div>"
      ],
      "text/plain": [
       "   X  Y  month  day  FFMC   DMC     DC  ISI  temp  RH  wind  rain  area\n",
       "0  7  5      3    5  86.2  26.2   94.3  5.1   8.2  51   6.7   0.0   0.0\n",
       "1  7  4     10    2  90.6  35.4  669.1  6.7  18.0  33   0.9   0.0   0.0\n",
       "2  7  4     10    6  90.6  43.7  686.9  6.7  14.6  33   1.3   0.0   0.0\n",
       "3  8  6      3    5  91.7  33.3   77.5  9.0   8.3  97   4.0   0.2   0.0\n",
       "4  8  6      3    7  89.3  51.3  102.2  9.6  11.4  99   1.8   0.0   0.0"
      ]
     },
     "execution_count": 10,
     "metadata": {},
     "output_type": "execute_result"
    }
   ],
   "source": [
    "# import data\n",
    "# this dataset I retrieved from https://archive.ics.uci.edu/ml/machine-learning-databases/forest-fires/\n",
    "data = pd.read_csv('forestfires.csv',sep=',')\n",
    "#Instead of dropping, replace month and day by numeric values\n",
    "data = clean_week_and_day(data)\n",
    "data.head()"
   ]
  },
  {
   "cell_type": "code",
   "execution_count": 11,
   "metadata": {
    "collapsed": true
   },
   "outputs": [],
   "source": [
    "# split data in train and test\n",
    "# continue with train to prevent leakage\n",
    "train, test = train_test_split(data.index.values,test_size=0.3)\n",
    "train = data.iloc[train]\n",
    "test = data.iloc[test]"
   ]
  },
  {
   "cell_type": "code",
   "execution_count": 12,
   "metadata": {
    "collapsed": true
   },
   "outputs": [],
   "source": [
    "# create functions for pipeline\n",
    "class NoTranformation(BaseEstimator, TransformerMixin):\n",
    "    \"\"\" Empty transformer class that allows to skip a step in the pipeline,\n",
    "    in this case applying no transformation.\"\"\"\n",
    "    def __init__(self):\n",
    "        self = self\n",
    "\n",
    "    def fit(self, X, y=None):\n",
    "        return self\n",
    "\n",
    "    def transform(self, X):\n",
    "        return X\n",
    "\n",
    "def build_pipeline(model_name, trans_name, model_dict, trans_dict):\n",
    "\n",
    "    estimator = Pipeline([\n",
    "        ('transformation', trans_dict[trans_name]),\n",
    "        ('classifier', model_dict[model_name])\n",
    "        ])\n",
    "    \n",
    "    return estimator"
   ]
  },
  {
   "cell_type": "code",
   "execution_count": 13,
   "metadata": {
    "collapsed": true
   },
   "outputs": [],
   "source": [
    "# do things with train such as make dummies from month and day features\\\n",
    "# you can do this with standard sklearn functions such as OneHotEncoder\n",
    "# or you can make your own adaptations, create classes and functions like the NoTransformation class above"
   ]
  },
  {
   "cell_type": "code",
   "execution_count": 14,
   "metadata": {
    "collapsed": true
   },
   "outputs": [],
   "source": [
    "# make dictionaries with models and transformations you want to apply\n",
    "# models to apply\n",
    "model_dict = {\n",
    "    'lr':LinearRegression(),\n",
    "    'svr':SVR(),\n",
    "}\n",
    "\n",
    "# transformation to apply\n",
    "trans_dict = {\n",
    "    'none':NoTranformation(), # simply passes the data\n",
    "    'poly':PolynomialFeatures(2),\n",
    "}"
   ]
  },
  {
   "cell_type": "code",
   "execution_count": 15,
   "metadata": {
    "collapsed": true
   },
   "outputs": [],
   "source": [
    "# for crosssectional data, use KFold crossvalidation\n",
    "k_fold = KFold(n_splits=5, random_state=None)\n",
    "y_variable = 'area'\n",
    "\n",
    "# for timeseries data, use TimeSeriesSplit\n",
    "# tscv = TimeSeriesSplit(n_splits=5)"
   ]
  },
  {
   "cell_type": "code",
   "execution_count": 16,
   "metadata": {},
   "outputs": [
    {
     "data": {
      "text/html": [
       "<div>\n",
       "<style>\n",
       "    .dataframe thead tr:only-child th {\n",
       "        text-align: right;\n",
       "    }\n",
       "\n",
       "    .dataframe thead th {\n",
       "        text-align: left;\n",
       "    }\n",
       "\n",
       "    .dataframe tbody tr th {\n",
       "        vertical-align: top;\n",
       "    }\n",
       "</style>\n",
       "<table border=\"1\" class=\"dataframe\">\n",
       "  <thead>\n",
       "    <tr style=\"text-align: right;\">\n",
       "      <th></th>\n",
       "      <th></th>\n",
       "      <th>mse</th>\n",
       "      <th>mae</th>\n",
       "      <th>ev</th>\n",
       "      <th>r2</th>\n",
       "    </tr>\n",
       "    <tr>\n",
       "      <th>model</th>\n",
       "      <th>transformation</th>\n",
       "      <th></th>\n",
       "      <th></th>\n",
       "      <th></th>\n",
       "      <th></th>\n",
       "    </tr>\n",
       "  </thead>\n",
       "  <tbody>\n",
       "    <tr>\n",
       "      <th rowspan=\"2\" valign=\"top\">lr</th>\n",
       "      <th>none</th>\n",
       "      <td>2148.821051</td>\n",
       "      <td>16.460362</td>\n",
       "      <td>-0.092861</td>\n",
       "      <td>-0.099574</td>\n",
       "    </tr>\n",
       "    <tr>\n",
       "      <th>poly</th>\n",
       "      <td>3919.335186</td>\n",
       "      <td>29.964649</td>\n",
       "      <td>-2.369855</td>\n",
       "      <td>-2.406261</td>\n",
       "    </tr>\n",
       "    <tr>\n",
       "      <th rowspan=\"2\" valign=\"top\">svr</th>\n",
       "      <th>none</th>\n",
       "      <td>2208.209688</td>\n",
       "      <td>10.215960</td>\n",
       "      <td>-0.000420</td>\n",
       "      <td>-0.088197</td>\n",
       "    </tr>\n",
       "    <tr>\n",
       "      <th>poly</th>\n",
       "      <td>2208.115351</td>\n",
       "      <td>10.223627</td>\n",
       "      <td>0.000195</td>\n",
       "      <td>-0.087899</td>\n",
       "    </tr>\n",
       "  </tbody>\n",
       "</table>\n",
       "</div>"
      ],
      "text/plain": [
       "                              mse        mae        ev        r2\n",
       "model transformation                                            \n",
       "lr    none            2148.821051  16.460362 -0.092861 -0.099574\n",
       "      poly            3919.335186  29.964649 -2.369855 -2.406261\n",
       "svr   none            2208.209688  10.215960 -0.000420 -0.088197\n",
       "      poly            2208.115351  10.223627  0.000195 -0.087899"
      ]
     },
     "execution_count": 16,
     "metadata": {},
     "output_type": "execute_result"
    }
   ],
   "source": [
    "evaluation_values = []\n",
    "i = 0\n",
    "for train_indices, cv_indices in k_fold.split(train):\n",
    "    i += 1\n",
    "    for model_name, trans_name in list(itertools.product(model_dict, trans_dict)):\n",
    "        estimator = build_pipeline(model_name, trans_name, model_dict, trans_dict)\n",
    "        estimator.fit(train.drop(y_variable, 1).iloc[train_indices], train[y_variable].iloc[train_indices])\n",
    "        y_pred = estimator.predict(train.drop(y_variable, 1).iloc[cv_indices])\n",
    "        evaluation_values.append([i, model_name, trans_name, \n",
    "                                  mse(train[y_variable].iloc[cv_indices],y_pred),\n",
    "                                  mae(train[y_variable].iloc[cv_indices],y_pred),\n",
    "                                  ev(train[y_variable].iloc[cv_indices],y_pred),\n",
    "                                  r2(train[y_variable].iloc[cv_indices],y_pred)])\n",
    "\n",
    "evaluation_values = pd.DataFrame(evaluation_values, columns = ['fold','model','transformation','mse','mae','ev','r2'])\n",
    "evaluation_values.groupby(['model', 'transformation']).agg('mean').drop('fold', 1)"
   ]
  },
  {
   "cell_type": "code",
   "execution_count": 17,
   "metadata": {},
   "outputs": [
    {
     "data": {
      "text/plain": [
       "25.605572541203376"
      ]
     },
     "execution_count": 17,
     "metadata": {},
     "output_type": "execute_result"
    }
   ],
   "source": [
    "# apply to test set\n",
    "estimator = build_pipeline('lr', 'none', model_dict, trans_dict)\n",
    "estimator.fit(train.drop(y_variable, 1), train[y_variable])\n",
    "y_pred = estimator.predict(test.drop(y_variable, 1))\n",
    "mae(test[y_variable],y_pred)"
   ]
  }
 ],
 "metadata": {
  "kernelspec": {
   "display_name": "Python 3",
   "language": "python",
   "name": "python3"
  },
  "language_info": {
   "codemirror_mode": {
    "name": "ipython",
    "version": 3
   },
   "file_extension": ".py",
   "mimetype": "text/x-python",
   "name": "python",
   "nbconvert_exporter": "python",
   "pygments_lexer": "ipython3",
   "version": "3.6.3"
  }
 },
 "nbformat": 4,
 "nbformat_minor": 2
}
