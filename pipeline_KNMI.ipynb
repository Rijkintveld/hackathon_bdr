{
 "cells": [
  {
   "cell_type": "markdown",
   "metadata": {},
   "source": [
    "### Hackathon pipeline template\n",
    "\n",
    "In this document an idea of how to create a pipeline."
   ]
  },
  {
   "cell_type": "code",
   "execution_count": 102,
   "metadata": {
    "collapsed": true
   },
   "outputs": [],
   "source": [
    "# general imports\n",
    "import pandas as pd\n",
    "import itertools\n",
    "\n",
    "# general imports from sklearn\n",
    "from sklearn.base import BaseEstimator, TransformerMixin\n",
    "from sklearn.pipeline import Pipeline\n",
    "\n",
    "# import for models\n",
    "from sklearn.linear_model import LinearRegression\n",
    "from sklearn.svm import SVR\n",
    "\n",
    "# imports for transformation\n",
    "from sklearn.preprocessing import PolynomialFeatures\n",
    "\n",
    "# splitting for crossvalidation procedure\n",
    "from sklearn.model_selection import train_test_split\n",
    "from sklearn.model_selection import KFold\n",
    "from sklearn.model_selection import TimeSeriesSplit\n",
    "\n",
    "# evaluation metrics\n",
    "from sklearn.metrics import mean_squared_error as mse\n",
    "from sklearn.metrics import mean_absolute_error as mae\n",
    "from sklearn.metrics import explained_variance_score as ev\n",
    "from sklearn.metrics import r2_score as r2\n",
    "\n",
    "import re\n",
    "from functools import reduce"
   ]
  },
  {
   "cell_type": "code",
   "execution_count": 127,
   "metadata": {
    "collapsed": true
   },
   "outputs": [],
   "source": [
    "def clean_column_names(df):\n",
    "    '''Remove all non letters from the column names'''\n",
    "    newcols= []\n",
    "    for colname in data.columns:\n",
    "        newcols.append(reduce(lambda i,j: i+j,re.findall(\"[a-zA-Z]\",colname)))\n",
    "    df.columns = newcols\n",
    "    \n",
    "    return df"
   ]
  },
  {
   "cell_type": "code",
   "execution_count": 269,
   "metadata": {},
   "outputs": [
    {
     "data": {
      "text/html": [
       "<div>\n",
       "<style>\n",
       "    .dataframe thead tr:only-child th {\n",
       "        text-align: right;\n",
       "    }\n",
       "\n",
       "    .dataframe thead th {\n",
       "        text-align: left;\n",
       "    }\n",
       "\n",
       "    .dataframe tbody tr th {\n",
       "        vertical-align: top;\n",
       "    }\n",
       "</style>\n",
       "<table border=\"1\" class=\"dataframe\">\n",
       "  <thead>\n",
       "    <tr style=\"text-align: right;\">\n",
       "      <th></th>\n",
       "      <th>DDVEC</th>\n",
       "      <th>FHVEC</th>\n",
       "      <th>FG</th>\n",
       "      <th>FHX</th>\n",
       "      <th>FHXH</th>\n",
       "      <th>FHN</th>\n",
       "      <th>FHNH</th>\n",
       "      <th>FXX</th>\n",
       "      <th>FXXH</th>\n",
       "      <th>Year</th>\n",
       "      <th>MM</th>\n",
       "      <th>DD</th>\n",
       "    </tr>\n",
       "  </thead>\n",
       "  <tbody>\n",
       "    <tr>\n",
       "      <th>0</th>\n",
       "      <td>334.0</td>\n",
       "      <td>55.0</td>\n",
       "      <td>67.0</td>\n",
       "      <td>110.0</td>\n",
       "      <td>13.0</td>\n",
       "      <td>30.0</td>\n",
       "      <td>1.0</td>\n",
       "      <td>140.0</td>\n",
       "      <td>13.0</td>\n",
       "      <td>2016</td>\n",
       "      <td>11</td>\n",
       "      <td>1</td>\n",
       "    </tr>\n",
       "    <tr>\n",
       "      <th>1</th>\n",
       "      <td>320.0</td>\n",
       "      <td>96.0</td>\n",
       "      <td>99.0</td>\n",
       "      <td>120.0</td>\n",
       "      <td>8.0</td>\n",
       "      <td>70.0</td>\n",
       "      <td>23.0</td>\n",
       "      <td>180.0</td>\n",
       "      <td>13.0</td>\n",
       "      <td>2016</td>\n",
       "      <td>11</td>\n",
       "      <td>2</td>\n",
       "    </tr>\n",
       "    <tr>\n",
       "      <th>2</th>\n",
       "      <td>251.0</td>\n",
       "      <td>52.0</td>\n",
       "      <td>72.0</td>\n",
       "      <td>130.0</td>\n",
       "      <td>23.0</td>\n",
       "      <td>20.0</td>\n",
       "      <td>11.0</td>\n",
       "      <td>160.0</td>\n",
       "      <td>23.0</td>\n",
       "      <td>2016</td>\n",
       "      <td>11</td>\n",
       "      <td>3</td>\n",
       "    </tr>\n",
       "    <tr>\n",
       "      <th>3</th>\n",
       "      <td>197.0</td>\n",
       "      <td>97.0</td>\n",
       "      <td>100.0</td>\n",
       "      <td>140.0</td>\n",
       "      <td>3.0</td>\n",
       "      <td>70.0</td>\n",
       "      <td>22.0</td>\n",
       "      <td>180.0</td>\n",
       "      <td>3.0</td>\n",
       "      <td>2016</td>\n",
       "      <td>11</td>\n",
       "      <td>4</td>\n",
       "    </tr>\n",
       "    <tr>\n",
       "      <th>4</th>\n",
       "      <td>291.0</td>\n",
       "      <td>72.0</td>\n",
       "      <td>78.0</td>\n",
       "      <td>130.0</td>\n",
       "      <td>24.0</td>\n",
       "      <td>40.0</td>\n",
       "      <td>3.0</td>\n",
       "      <td>180.0</td>\n",
       "      <td>19.0</td>\n",
       "      <td>2016</td>\n",
       "      <td>11</td>\n",
       "      <td>5</td>\n",
       "    </tr>\n",
       "  </tbody>\n",
       "</table>\n",
       "</div>"
      ],
      "text/plain": [
       "   DDVEC  FHVEC     FG    FHX  FHXH   FHN  FHNH    FXX  FXXH  Year  MM  DD\n",
       "0  334.0   55.0   67.0  110.0  13.0  30.0   1.0  140.0  13.0  2016  11   1\n",
       "1  320.0   96.0   99.0  120.0   8.0  70.0  23.0  180.0  13.0  2016  11   2\n",
       "2  251.0   52.0   72.0  130.0  23.0  20.0  11.0  160.0  23.0  2016  11   3\n",
       "3  197.0   97.0  100.0  140.0   3.0  70.0  22.0  180.0   3.0  2016  11   4\n",
       "4  291.0   72.0   78.0  130.0  24.0  40.0   3.0  180.0  19.0  2016  11   5"
      ]
     },
     "execution_count": 269,
     "metadata": {},
     "output_type": "execute_result"
    }
   ],
   "source": [
    "# import data\n",
    "# this dataset I retrieved from https://archive.ics.uci.edu/ml/machine-learning-databases/forest-fires/\n",
    "data = pd.read_csv('KNMI_20171121.txt',header=48,sep=',')\n",
    "#Instead of dropping, replace month and day by numeric values\n",
    "#data = clean_week_and_day(data)\n",
    "data = data.drop(0)\n",
    "data.index -= 1 #Start at 0\n",
    "#break down YYYYMMDD column\n",
    "data[\"YYYYMMDD\"] = data[\"YYYYMMDD\"].astype(\"str\")\n",
    "data['Year'] = data.YYYYMMDD.apply(lambda x: x[0:4]).astype(\"int\")\n",
    "data['MM'] = data.YYYYMMDD.apply(lambda x: x[4:6]).astype(\"int\")\n",
    "data['DD'] = data.YYYYMMDD.apply(lambda x: x[6:8]).astype(\"int\")\n",
    "data = data.drop(\"YYYYMMDD\",axis=1)\n",
    "\n",
    "#Remove spaces from headers\n",
    "data = clean_column_names(data)\n",
    "\n",
    "#remove object types\n",
    "dict_type = dict(data.dtypes)\n",
    "\n",
    "objectcols=[]\n",
    "for key,value in dict_type.items():\n",
    "    if \"object\" in str(value):\n",
    "        objectcols.append(key)\n",
    "\n",
    "data = data.drop(objectcols,1)\n",
    "\n",
    "data.head()"
   ]
  },
  {
   "cell_type": "code",
   "execution_count": 270,
   "metadata": {},
   "outputs": [],
   "source": [
    "# split data in train and test\n",
    "# continue with train to prevent leakage\n",
    "train, test = train_test_split(data.index.values,test_size=0.3)\n",
    "train = data.iloc[train]\n",
    "test = data.iloc[test]"
   ]
  },
  {
   "cell_type": "code",
   "execution_count": 272,
   "metadata": {
    "collapsed": true
   },
   "outputs": [],
   "source": [
    "# create functions for pipeline\n",
    "class NoTransformation(BaseEstimator, TransformerMixin):\n",
    "    \"\"\" Empty transformer class that allows to skip a step in the pipeline,\n",
    "    in this case applying no transformation.\"\"\"\n",
    "    def __init__(self):\n",
    "        self = self\n",
    "\n",
    "    def fit(self, X, y=None):\n",
    "        return self\n",
    "\n",
    "    def transform(self, X):\n",
    "        return X\n",
    "\n",
    "def build_pipeline(model_name, trans_name, model_dict, trans_dict):\n",
    "\n",
    "    estimator = Pipeline([\n",
    "        ('transformation', trans_dict[trans_name]),\n",
    "        ('classifier', model_dict[model_name])\n",
    "        ])\n",
    "    \n",
    "    return estimator"
   ]
  },
  {
   "cell_type": "code",
   "execution_count": 273,
   "metadata": {
    "collapsed": true
   },
   "outputs": [],
   "source": [
    "# do things with train such as make dummies from month and day features\\\n",
    "# you can do this with standard sklearn functions such as OneHotEncoder\n",
    "# or you can make your own adaptations, create classes and functions like the NoTransformation class above"
   ]
  },
  {
   "cell_type": "code",
   "execution_count": 274,
   "metadata": {
    "collapsed": true
   },
   "outputs": [],
   "source": [
    "# make dictionaries with models and transformations you want to apply\n",
    "# models to apply\n",
    "model_dict = {\n",
    "    'lr':LinearRegression(),\n",
    "    'svr':SVR(),\n",
    "}\n",
    "\n",
    "# transformation to apply\n",
    "trans_dict = {\n",
    "    'none':NoTransformation(), # simply passes the data\n",
    "    'poly':PolynomialFeatures(2),\n",
    "}"
   ]
  },
  {
   "cell_type": "code",
   "execution_count": 275,
   "metadata": {
    "collapsed": true
   },
   "outputs": [],
   "source": [
    "# for crosssectional data, use KFold crossvalidation\n",
    "k_fold = KFold(n_splits=5, random_state=None)\n",
    "y_variable = 'FG'\n",
    "\n",
    "# for timeseries data, use TimeSeriesSplit\n",
    "# tscv = TimeSeriesSplit(n_splits=5)"
   ]
  },
  {
   "cell_type": "code",
   "execution_count": 276,
   "metadata": {},
   "outputs": [
    {
     "data": {
      "text/html": [
       "<div>\n",
       "<style>\n",
       "    .dataframe thead tr:only-child th {\n",
       "        text-align: right;\n",
       "    }\n",
       "\n",
       "    .dataframe thead th {\n",
       "        text-align: left;\n",
       "    }\n",
       "\n",
       "    .dataframe tbody tr th {\n",
       "        vertical-align: top;\n",
       "    }\n",
       "</style>\n",
       "<table border=\"1\" class=\"dataframe\">\n",
       "  <thead>\n",
       "    <tr style=\"text-align: right;\">\n",
       "      <th></th>\n",
       "      <th></th>\n",
       "      <th>mse</th>\n",
       "      <th>mae</th>\n",
       "      <th>ev</th>\n",
       "      <th>r2</th>\n",
       "    </tr>\n",
       "    <tr>\n",
       "      <th>model</th>\n",
       "      <th>transformation</th>\n",
       "      <th></th>\n",
       "      <th></th>\n",
       "      <th></th>\n",
       "      <th></th>\n",
       "    </tr>\n",
       "  </thead>\n",
       "  <tbody>\n",
       "    <tr>\n",
       "      <th rowspan=\"2\" valign=\"top\">lr</th>\n",
       "      <th>none</th>\n",
       "      <td>23.776878</td>\n",
       "      <td>3.561359</td>\n",
       "      <td>9.713243e-01</td>\n",
       "      <td>0.970349</td>\n",
       "    </tr>\n",
       "    <tr>\n",
       "      <th>poly</th>\n",
       "      <td>36.843153</td>\n",
       "      <td>4.097276</td>\n",
       "      <td>9.554151e-01</td>\n",
       "      <td>0.954391</td>\n",
       "    </tr>\n",
       "    <tr>\n",
       "      <th rowspan=\"2\" valign=\"top\">svr</th>\n",
       "      <th>none</th>\n",
       "      <td>856.843962</td>\n",
       "      <td>23.499790</td>\n",
       "      <td>1.665010e-05</td>\n",
       "      <td>-0.042555</td>\n",
       "    </tr>\n",
       "    <tr>\n",
       "      <th>poly</th>\n",
       "      <td>856.854984</td>\n",
       "      <td>23.500487</td>\n",
       "      <td>4.440892e-17</td>\n",
       "      <td>-0.042569</td>\n",
       "    </tr>\n",
       "  </tbody>\n",
       "</table>\n",
       "</div>"
      ],
      "text/plain": [
       "                             mse        mae            ev        r2\n",
       "model transformation                                               \n",
       "lr    none             23.776878   3.561359  9.713243e-01  0.970349\n",
       "      poly             36.843153   4.097276  9.554151e-01  0.954391\n",
       "svr   none            856.843962  23.499790  1.665010e-05 -0.042555\n",
       "      poly            856.854984  23.500487  4.440892e-17 -0.042569"
      ]
     },
     "execution_count": 276,
     "metadata": {},
     "output_type": "execute_result"
    }
   ],
   "source": [
    "evaluation_values = []\n",
    "i = 0\n",
    "for train_indices, cv_indices in k_fold.split(train):\n",
    "    i += 1\n",
    "    for model_name, trans_name in list(itertools.product(model_dict, trans_dict)):\n",
    "        estimator = build_pipeline(model_name, trans_name, model_dict, trans_dict)\n",
    "        estimator.fit(train.drop(y_variable, 1).iloc[train_indices], train[y_variable].iloc[train_indices])\n",
    "        y_pred = estimator.predict(train.drop(y_variable, 1).iloc[cv_indices])\n",
    "        evaluation_values.append([i, model_name, trans_name, \n",
    "                                  mse(train[y_variable].iloc[cv_indices],y_pred),\n",
    "                                  mae(train[y_variable].iloc[cv_indices],y_pred),\n",
    "                                  ev(train[y_variable].iloc[cv_indices],y_pred),\n",
    "                                  r2(train[y_variable].iloc[cv_indices],y_pred)])\n",
    "\n",
    "evaluation_values = pd.DataFrame(evaluation_values, columns = ['fold','model','transformation','mse','mae','ev','r2'])\n",
    "evaluation_values.groupby(['model', 'transformation']).agg('mean').drop('fold', 1)"
   ]
  },
  {
   "cell_type": "code",
   "execution_count": 277,
   "metadata": {},
   "outputs": [
    {
     "data": {
      "text/plain": [
       "3.2923818521834431"
      ]
     },
     "execution_count": 277,
     "metadata": {},
     "output_type": "execute_result"
    }
   ],
   "source": [
    "# apply to test set\n",
    "estimator = build_pipeline('lr', 'none', model_dict, trans_dict)\n",
    "estimator.fit(train.drop(y_variable, 1), train[y_variable])\n",
    "y_pred = estimator.predict(test.drop(y_variable, 1))\n",
    "mae(test[y_variable],y_pred)"
   ]
  }
 ],
 "metadata": {
  "kernelspec": {
   "display_name": "Python 3",
   "language": "python",
   "name": "python3"
  },
  "language_info": {
   "codemirror_mode": {
    "name": "ipython",
    "version": 3
   },
   "file_extension": ".py",
   "mimetype": "text/x-python",
   "name": "python",
   "nbconvert_exporter": "python",
   "pygments_lexer": "ipython3",
   "version": "3.6.3"
  }
 },
 "nbformat": 4,
 "nbformat_minor": 2
}
